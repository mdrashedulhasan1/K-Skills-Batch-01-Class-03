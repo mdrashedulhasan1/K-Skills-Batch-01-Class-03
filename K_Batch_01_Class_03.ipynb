{
  "nbformat": 4,
  "nbformat_minor": 0,
  "metadata": {
    "colab": {
      "name": "K-Batch-01-Class-03.ipynb",
      "provenance": [],
      "authorship_tag": "ABX9TyOmsy7B1sURraPkMQc26r3p",
      "include_colab_link": true
    },
    "kernelspec": {
      "name": "python3",
      "display_name": "Python 3"
    },
    "language_info": {
      "name": "python"
    }
  },
  "cells": [
    {
      "cell_type": "markdown",
      "metadata": {
        "id": "view-in-github",
        "colab_type": "text"
      },
      "source": [
        "<a href=\"https://colab.research.google.com/github/mdrashedulhasan1/K-Skills-Batch-01-Class-03/blob/main/K_Batch_01_Class_03.ipynb\" target=\"_parent\"><img src=\"https://colab.research.google.com/assets/colab-badge.svg\" alt=\"Open In Colab\"/></a>"
      ]
    },
    {
      "cell_type": "code",
      "execution_count": null,
      "metadata": {
        "colab": {
          "base_uri": "https://localhost:8080/"
        },
        "id": "WdrIy3k13bng",
        "outputId": "c86c86bc-c17b-474a-e34f-b72dc2d0753c"
      },
      "outputs": [
        {
          "output_type": "stream",
          "name": "stdout",
          "text": [
            "Welcome to the market!\n",
            "Enter mango price11\n",
            "You can buy mango\n"
          ]
        }
      ],
      "source": [
        "print(\"Welcome to the market!\")\n",
        "price = int(input(\"Enter mango price\"))\n",
        "if price != 10:\n",
        "  print(\"You can buy mango\")\n",
        "else:\n",
        "  print(\"You can't buy mango\")"
      ]
    },
    {
      "cell_type": "code",
      "source": [
        "#Even/odd\n",
        "number = int(input(\"Which number do you want to check?\"))\n",
        "if(number%2==0):\n",
        "  print(number,\"is an even number\")\n",
        "else:\n",
        "  print(number,\"is an odd number\")"
      ],
      "metadata": {
        "colab": {
          "base_uri": "https://localhost:8080/"
        },
        "id": "huTdNBPg56y0",
        "outputId": "01c76ceb-0e41-4b25-a9be-2e8564d4725f"
      },
      "execution_count": null,
      "outputs": [
        {
          "output_type": "stream",
          "name": "stdout",
          "text": [
            "Which number do you want to check?5\n",
            "5 is an odd number\n"
          ]
        }
      ]
    },
    {
      "cell_type": "code",
      "source": [
        "age = int(input(\"Input your age:\"))\n",
        "if age>=18:\n",
        "  if age>30:\n",
        "    print(\"Ticket price 5k\")\n",
        "  elif age>=25:\n",
        "    print(\"Ticket price 4.5k\")\n",
        "  elif age>=20:\n",
        "    print(\"Ticket price 4K\")\n",
        "  else:\n",
        "    print(\"Ticket price 3.5k\")\n",
        "else:\n",
        "  print(\"Sorry! you can't buy ticket\")"
      ],
      "metadata": {
        "colab": {
          "base_uri": "https://localhost:8080/"
        },
        "id": "EcDbOM2P7TYl",
        "outputId": "c5c03d79-7671-4321-e059-0c94bc91e8fc"
      },
      "execution_count": null,
      "outputs": [
        {
          "output_type": "stream",
          "name": "stdout",
          "text": [
            "Input your age:18\n",
            "Ticket price 3.5k\n"
          ]
        }
      ]
    },
    {
      "cell_type": "code",
      "source": [
        "print(\"Welcome to T-shirt market!\")\n",
        "size = input(\"T-shirt size S,M,L?\")\n",
        "delivery = input(\"Delivery Y or N?\")\n",
        "out_of_dhaka = input(\"Out of dhaka Y or N?\")\n",
        "bill = 0\n",
        "if size==\"S\":\n",
        "  bill += 100   # bill = bill+\n",
        "elif size==\"M\":\n",
        "  bill += 150\n",
        "else:\n",
        "  bill +=200\n",
        "if delivery==\"Y\":\n",
        "  if size==\"S\":\n",
        "    bill += 20\n",
        "  else:\n",
        "    bill += 35\n",
        "if out_of_dhaka==\"Y\":\n",
        "  if size==\"S\":\n",
        "    bill += 0\n",
        "  else:\n",
        "    bill += 10\n",
        "#print(\"Your total bill is\",bill)\n",
        "print(f\"Your total bill is {bill}tk\")"
      ],
      "metadata": {
        "colab": {
          "base_uri": "https://localhost:8080/"
        },
        "id": "oEdipmVk9f1N",
        "outputId": "596caa88-bd91-439a-883b-6ea53ce16041"
      },
      "execution_count": null,
      "outputs": [
        {
          "output_type": "stream",
          "name": "stdout",
          "text": [
            "Welcome to T-shirt market!\n",
            "T-shirt size S,M,L?S\n",
            "Delivery Y or N?Y\n",
            "Out of dhaka Y or N?Y\n",
            "Your total bill is 120tk\n"
          ]
        }
      ]
    }
  ]
}